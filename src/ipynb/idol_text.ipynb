{
 "cells": [
  {
   "cell_type": "code",
   "execution_count": 1,
   "metadata": {},
   "outputs": [],
   "source": [
    "import pathlib\n",
    "import glob\n",
    "import re\n",
    "import pprint\n",
    "import pandas as pd\n",
    "import os\n",
    "from tqdm import tqdm\n",
    "import codecs"
   ]
  },
  {
   "cell_type": "code",
   "execution_count": 2,
   "metadata": {},
   "outputs": [],
   "source": [
    "p_temp = pathlib.Path('../../dataset/')"
   ]
  },
  {
   "cell_type": "code",
   "execution_count": 3,
   "metadata": {},
   "outputs": [
    {
     "name": "stdout",
     "output_type": "stream",
     "text": [
      "[WindowsPath('../../dataset/idol_id.csv')]\n"
     ]
    }
   ],
   "source": [
    "pprint.pprint(list(p_temp.iterdir()))"
   ]
  },
  {
   "cell_type": "code",
   "execution_count": 4,
   "metadata": {},
   "outputs": [],
   "source": [
    "idol_data_path = '../../dataset/'\n",
    "twitter_data_path = '../../TwitterData/'"
   ]
  },
  {
   "cell_type": "markdown",
   "metadata": {},
   "source": [
    "# アイドルのIDデータを読み込む"
   ]
  },
  {
   "cell_type": "code",
   "execution_count": 5,
   "metadata": {},
   "outputs": [],
   "source": [
    "df = pd.read_csv(idol_data_path+'idol_id.csv')"
   ]
  },
  {
   "cell_type": "code",
   "execution_count": 6,
   "metadata": {},
   "outputs": [
    {
     "data": {
      "text/html": [
       "<div>\n",
       "<style scoped>\n",
       "    .dataframe tbody tr th:only-of-type {\n",
       "        vertical-align: middle;\n",
       "    }\n",
       "\n",
       "    .dataframe tbody tr th {\n",
       "        vertical-align: top;\n",
       "    }\n",
       "\n",
       "    .dataframe thead th {\n",
       "        text-align: right;\n",
       "    }\n",
       "</style>\n",
       "<table border=\"1\" class=\"dataframe\">\n",
       "  <thead>\n",
       "    <tr style=\"text-align: right;\">\n",
       "      <th></th>\n",
       "      <th>id</th>\n",
       "      <th>screen_name</th>\n",
       "    </tr>\n",
       "  </thead>\n",
       "  <tbody>\n",
       "    <tr>\n",
       "      <th>0</th>\n",
       "      <td>818326171880341504</td>\n",
       "      <td>aizome_karen</td>\n",
       "    </tr>\n",
       "    <tr>\n",
       "      <th>1</th>\n",
       "      <td>1245736739919941633</td>\n",
       "      <td>yuraneko_</td>\n",
       "    </tr>\n",
       "    <tr>\n",
       "      <th>2</th>\n",
       "      <td>1086770060</td>\n",
       "      <td>peroperorinko01</td>\n",
       "    </tr>\n",
       "    <tr>\n",
       "      <th>3</th>\n",
       "      <td>1109751762733301760</td>\n",
       "      <td>nekomataokayu</td>\n",
       "    </tr>\n",
       "    <tr>\n",
       "      <th>4</th>\n",
       "      <td>747745043725815808</td>\n",
       "      <td>okada_ayame</td>\n",
       "    </tr>\n",
       "    <tr>\n",
       "      <th>5</th>\n",
       "      <td>1109748792721432577</td>\n",
       "      <td>inugamikorone</td>\n",
       "    </tr>\n",
       "    <tr>\n",
       "      <th>6</th>\n",
       "      <td>1133215093246664706</td>\n",
       "      <td>usadapekora</td>\n",
       "    </tr>\n",
       "    <tr>\n",
       "      <th>7</th>\n",
       "      <td>72809395</td>\n",
       "      <td>eitaso</td>\n",
       "    </tr>\n",
       "    <tr>\n",
       "      <th>8</th>\n",
       "      <td>1964755448</td>\n",
       "      <td>arimuraairi</td>\n",
       "    </tr>\n",
       "    <tr>\n",
       "      <th>9</th>\n",
       "      <td>1270386719808839681</td>\n",
       "      <td>yanemintchan</td>\n",
       "    </tr>\n",
       "    <tr>\n",
       "      <th>10</th>\n",
       "      <td>1355780078286725121</td>\n",
       "      <td>nemoripetty</td>\n",
       "    </tr>\n",
       "    <tr>\n",
       "      <th>11</th>\n",
       "      <td>782993407656374273</td>\n",
       "      <td>kobato_ria</td>\n",
       "    </tr>\n",
       "    <tr>\n",
       "      <th>12</th>\n",
       "      <td>719821086527893505</td>\n",
       "      <td>hiruta_airi</td>\n",
       "    </tr>\n",
       "  </tbody>\n",
       "</table>\n",
       "</div>"
      ],
      "text/plain": [
       "                     id      screen_name\n",
       "0    818326171880341504     aizome_karen\n",
       "1   1245736739919941633        yuraneko_\n",
       "2            1086770060  peroperorinko01\n",
       "3   1109751762733301760    nekomataokayu\n",
       "4    747745043725815808      okada_ayame\n",
       "5   1109748792721432577    inugamikorone\n",
       "6   1133215093246664706      usadapekora\n",
       "7              72809395           eitaso\n",
       "8            1964755448      arimuraairi\n",
       "9   1270386719808839681     yanemintchan\n",
       "10  1355780078286725121      nemoripetty\n",
       "11   782993407656374273       kobato_ria\n",
       "12   719821086527893505      hiruta_airi"
      ]
     },
     "execution_count": 6,
     "metadata": {},
     "output_type": "execute_result"
    }
   ],
   "source": [
    "df.head(100)"
   ]
  },
  {
   "cell_type": "code",
   "execution_count": 7,
   "metadata": {},
   "outputs": [],
   "source": [
    "id_list = df.values.tolist()\n",
    "id_list = ([r[0] for r in id_list])"
   ]
  },
  {
   "cell_type": "code",
   "execution_count": 8,
   "metadata": {},
   "outputs": [
    {
     "name": "stdout",
     "output_type": "stream",
     "text": [
      "[818326171880341504, 1245736739919941633, 1086770060, 1109751762733301760, 747745043725815808, 1109748792721432577, 1133215093246664706, 72809395, 1964755448, 1270386719808839681, 1355780078286725121, 782993407656374273, 719821086527893505]\n"
     ]
    }
   ],
   "source": [
    "print(id_list)"
   ]
  },
  {
   "cell_type": "markdown",
   "metadata": {},
   "source": [
    "# ツイートデータを読み込む"
   ]
  },
  {
   "cell_type": "code",
   "execution_count": 9,
   "metadata": {},
   "outputs": [],
   "source": [
    "json_open = open(twitter_data_path+\"/2021-12-07.json\", 'r',encoding=\"utf-8\")\n",
    "base = pd.read_json(json_open,orient='records')"
   ]
  },
  {
   "cell_type": "code",
   "execution_count": 10,
   "metadata": {},
   "outputs": [],
   "source": [
    "result = pd.DataFrame(columns=['id','text'])"
   ]
  },
  {
   "cell_type": "markdown",
   "metadata": {},
   "source": [
    "# アイドルIDリストを使ってアイドルのツイートDataFrameを作る\n"
   ]
  },
  {
   "cell_type": "code",
   "execution_count": 11,
   "metadata": {},
   "outputs": [
    {
     "name": "stdout",
     "output_type": "stream",
     "text": [
      "ゆら猫💚🐈‍⬛\n",
      "ゆら猫💚🐈‍⬛\n",
      "ゆら猫💚🐈‍⬛\n",
      "ぺろりん先生 (鹿目凛)\n",
      "藍染カレン\n",
      "ぺろりん先生 (鹿目凛)\n",
      "岡田 彩夢@虹のコンキスタドール\n",
      "有村藍里\n",
      "小鳩りあ(こばとりあ)\n",
      "岡田 彩夢@虹のコンキスタドール\n",
      "眠森ペティ📔🗝️\n",
      "岡田 彩夢@虹のコンキスタドール\n",
      "小鳩りあ(こばとりあ)\n",
      "蛭田 愛梨@虹のコンキスタドール\n",
      "兎田ぺこら👯‍♀️ホロライブ3期生\n",
      "ゆら猫💚🐈‍⬛\n",
      "ぺろりん先生 (鹿目凛)\n",
      "ぺろりん先生 (鹿目凛)\n",
      "猫又おかゆ🍙\n",
      "蛭田 愛梨@虹のコンキスタドール\n",
      "小鳩りあ(こばとりあ)\n",
      "蛭田 愛梨@虹のコンキスタドール\n",
      "岡田 彩夢@虹のコンキスタドール\n",
      "戌神ころね🥐\n",
      "蛭田 愛梨@虹のコンキスタドール\n",
      "兎田ぺこら👯‍♀️ホロライブ3期生\n",
      "蛭田 愛梨@虹のコンキスタドール\n",
      "マキシマムえいたそ☆成瀬瑛美\n",
      "有村藍里\n",
      "蛭田 愛梨@虹のコンキスタドール\n",
      "蛭田 愛梨@虹のコンキスタドール\n",
      "眠森ペティ📔🗝️\n",
      "眠森ペティ📔🗝️\n",
      "ゆるいやね\n",
      "ゆるいやね\n",
      "眠森ペティ📔🗝️\n",
      "小鳩りあ(こばとりあ)\n",
      "蛭田 愛梨@虹のコンキスタドール\n"
     ]
    }
   ],
   "source": [
    "for index, row in base.iterrows():\n",
    "    text = row[0]['text']\n",
    "    id = row[0]['user']['id']\n",
    "    if id in id_list:\n",
    "        print(row[0]['user']['name'])\n",
    "        result = result.append({ 'id':id,'text':text},ignore_index=True)\n",
    "    "
   ]
  },
  {
   "cell_type": "code",
   "execution_count": 12,
   "metadata": {},
   "outputs": [
    {
     "name": "stdout",
     "output_type": "stream",
     "text": [
      "<class 'pandas.core.frame.DataFrame'>\n",
      "RangeIndex: 38 entries, 0 to 37\n",
      "Data columns (total 2 columns):\n",
      "id      38 non-null object\n",
      "text    38 non-null object\n",
      "dtypes: object(2)\n",
      "memory usage: 688.0+ bytes\n"
     ]
    }
   ],
   "source": [
    "result.info()"
   ]
  },
  {
   "cell_type": "markdown",
   "metadata": {},
   "source": [
    "# ディレクトリ内のデータ全部に適応\n",
    "ディレクトリ内のファイル名のみ一覧を取得し、それで回していく。\n"
   ]
  },
  {
   "cell_type": "code",
   "execution_count": 13,
   "metadata": {},
   "outputs": [
    {
     "name": "stdout",
     "output_type": "stream",
     "text": [
      "['2020-09-13.json', '2020-09-14.json', '2020-09-15.json', '2020-09-16.json', '2020-09-17.json', '2020-09-18.json', '2020-09-19.json', '2020-09-20.json', '2020-09-21.json', '2020-09-22.json', '2020-09-23.json', '2020-09-24.json', '2020-09-25.json', '2020-09-26.json', '2020-09-27.json', '2020-09-28.json', '2020-09-29.json', '2020-09-30.json', '2020-10-01.json', '2020-10-02.json', '2020-10-03.json', '2020-10-04.json', '2020-10-05.json', '2020-10-06.json', '2020-10-07.json', '2020-10-08.json', '2020-10-09.json', '2020-10-11.json', '2020-10-12.json', '2020-10-13.json', '2020-10-14.json', '2020-10-15.json', '2020-10-19.json', '2020-10-20.json', '2020-10-21.json', '2020-10-22.json', '2020-10-23.json', '2020-10-24.json', '2020-10-25.json', '2020-10-26.json', '2020-10-27.json', '2020-10-28.json', '2020-10-29.json', '2020-10-30.json', '2020-10-31.json', '2020-11-02.json', '2020-11-03.json', '2020-11-04.json', '2020-11-05.json', '2020-11-06.json', '2020-11-07.json', '2020-11-08.json', '2020-11-09.json', '2020-11-10.json', '2020-11-11.json', '2020-11-12.json', '2020-11-13.json', '2020-11-14.json', '2020-11-15.json', '2020-11-16.json', '2020-11-17.json', '2020-11-18.json', '2020-11-19.json', '2020-11-20.json', '2020-11-21.json', '2020-11-22.json', '2020-11-23.json', '2020-11-24.json', '2020-11-25.json', '2020-11-26.json', '2020-11-27.json', '2020-11-28.json', '2020-11-29.json', '2020-11-30.json', '2020-12-01.json', '2020-12-02.json', '2020-12-03.json', '2020-12-04.json', '2020-12-05.json', '2020-12-06.json', '2020-12-07.json', '2020-12-08.json', '2020-12-09.json', '2020-12-10.json', '2020-12-11.json', '2020-12-12.json', '2020-12-13.json', '2020-12-14.json', '2020-12-15.json', '2020-12-16.json', '2020-12-17.json', '2020-12-18.json', '2020-12-19.json', '2020-12-20.json', '2020-12-21.json', '2020-12-22.json', '2020-12-23.json', '2020-12-24.json', '2020-12-25.json', '2020-12-26.json', '2020-12-27.json', '2020-12-28.json', '2020-12-29.json', '2020-12-30.json', '2020-12-31.json', '2021-01-01.json', '2021-01-02.json', '2021-01-03.json', '2021-01-04.json', '2021-01-05.json', '2021-01-06.json', '2021-01-07.json', '2021-01-08.json', '2021-01-09.json', '2021-01-10.json', '2021-01-11.json', '2021-01-12.json', '2021-01-31.json', '2021-02-01.json', '2021-02-02.json', '2021-02-03.json', '2021-02-04.json', '2021-02-05.json', '2021-02-06.json', '2021-02-07.json', '2021-02-08.json', '2021-02-09.json', '2021-02-10.json', '2021-02-11.json', '2021-02-12.json', '2021-02-13.json', '2021-02-14.json', '2021-02-15.json', '2021-02-16.json', '2021-02-20.json', '2021-02-21.json', '2021-02-22.json', '2021-02-23.json', '2021-02-24.json', '2021-02-25.json', '2021-02-26.json', '2021-02-27.json', '2021-02-28.json', '2021-03-01.json', '2021-03-02.json', '2021-03-03.json', '2021-03-04.json', '2021-03-05.json', '2021-03-06.json', '2021-03-07.json', '2021-03-08.json', '2021-03-09.json', '2021-03-10.json', '2021-03-11.json', '2021-03-12.json', '2021-03-13.json', '2021-03-14.json', '2021-03-15.json', '2021-03-16.json', '2021-03-17.json', '2021-03-18.json', '2021-03-19.json', '2021-03-20.json', '2021-03-21.json', '2021-03-22.json', '2021-03-23.json', '2021-03-24.json', '2021-03-25.json', '2021-03-26.json', '2021-03-27.json', '2021-03-28.json', '2021-03-29.json', '2021-03-30.json', '2021-03-31.json', '2021-04-01.json', '2021-04-02.json', '2021-04-03.json', '2021-04-04.json', '2021-04-05.json', '2021-04-06.json', '2021-04-07.json', '2021-04-08.json', '2021-04-09.json', '2021-04-10.json', '2021-04-11.json', '2021-04-12.json', '2021-04-13.json', '2021-04-14.json', '2021-04-15.json', '2021-04-16.json', '2021-04-17.json', '2021-04-18.json', '2021-04-19.json', '2021-04-20.json', '2021-04-21.json', '2021-04-22.json', '2021-04-23.json', '2021-04-24.json', '2021-04-25.json', '2021-04-26.json', '2021-04-27.json', '2021-04-28.json', '2021-04-29.json', '2021-04-30.json', '2021-05-01.json', '2021-05-02.json', '2021-05-03.json', '2021-05-04.json', '2021-05-05.json', '2021-05-06.json', '2021-05-07.json', '2021-05-08.json', '2021-05-09.json', '2021-05-10.json', '2021-05-12.json', '2021-05-14.json', '2021-05-15.json', '2021-05-16.json', '2021-05-17.json', '2021-05-20.json', '2021-05-22.json', '2021-05-25.json', '2021-05-26.json', '2021-05-27.json', '2021-05-28.json', '2021-05-29.json', '2021-05-30.json', '2021-05-31.json', '2021-06-02.json', '2021-06-03.json', '2021-06-04.json', '2021-06-05.json', '2021-06-06.json', '2021-06-07.json', '2021-06-08.json', '2021-06-09.json', '2021-06-10.json', '2021-06-11.json', '2021-06-12.json', '2021-06-14.json', '2021-06-15.json', '2021-06-16.json', '2021-06-17.json', '2021-06-19.json', '2021-06-20.json', '2021-06-21.json', '2021-07-01.json', '2021-07-02.json', '2021-07-03.json', '2021-07-08.json', '2021-07-09.json', '2021-07-10.json', '2021-07-11.json', '2021-07-12.json', '2021-07-13.json', '2021-07-14.json', '2021-07-15.json', '2021-07-16.json', '2021-07-17.json', '2021-07-18.json', '2021-07-22.json', '2021-07-23.json', '2021-07-24.json', '2021-07-25.json', '2021-07-26.json', '2021-07-27.json', '2021-07-28.json', '2021-07-29.json', '2021-07-30.json', '2021-07-31.json', '2021-08-01.json', '2021-08-02.json', '2021-08-03.json', '2021-08-04.json', '2021-08-05.json', '2021-08-06.json', '2021-08-07.json', '2021-08-08.json', '2021-08-10.json', '2021-08-11.json', '2021-08-12.json', '2021-08-13.json', '2021-08-14.json', '2021-08-15.json', '2021-08-16.json', '2021-08-17.json', '2021-08-18.json', '2021-08-19.json', '2021-08-20.json', '2021-08-21.json', '2021-08-22.json', '2021-08-24.json', '2021-08-25.json', '2021-08-26.json', '2021-08-27.json', '2021-08-31.json', '2021-09-03.json', '2021-09-04.json', '2021-09-05.json', '2021-09-09.json', '2021-09-10.json', '2021-09-11.json', '2021-09-12.json', '2021-09-23.json', '2021-09-25.json', '2021-09-26.json', '2021-09-27.json', '2021-10-01.json', '2021-10-02.json', '2021-10-03.json', '2021-10-09.json', '2021-10-12.json', '2021-10-13.json', '2021-10-14.json', '2021-10-15.json', '2021-10-20.json', '2021-10-21.json', '2021-10-22.json', '2021-10-24.json', '2021-11-01.json', '2021-11-05.json', '2021-11-06.json', '2021-11-07.json', '2021-11-12.json', '2021-11-13.json', '2021-11-19.json', '2021-11-20.json', '2021-11-21.json', '2021-11-27.json', '2021-11-28.json', '2021-11-29.json', '2021-11-30.json', '2021-12-07.json', '2021-12-08.json', '2021-12-09.json']\n"
     ]
    }
   ],
   "source": [
    "files = os.listdir(twitter_data_path)\n",
    "files_file = [f for f in files if os.path.isfile(os.path.join(twitter_data_path, f))]\n",
    "print(files_file)"
   ]
  },
  {
   "cell_type": "code",
   "execution_count": 14,
   "metadata": {},
   "outputs": [],
   "source": [
    "result = pd.DataFrame(columns=['id','text'])\n",
    "\n",
    "for file_name in (files_file):\n",
    "    with codecs.open(twitter_data_path+file_name, \"r\", \"utf-8\", \"ignore\") as file:\n",
    "        base = pd.read_json(file,orient='records')\n",
    "    for index, row in base.iterrows():\n",
    "        text = row[0]['text']\n",
    "        id = row[0]['user']['id']\n",
    "        if id in id_list:\n",
    "            result = result.append({ 'id':id,'text':text},ignore_index=True)\n"
   ]
  },
  {
   "cell_type": "code",
   "execution_count": 15,
   "metadata": {},
   "outputs": [
    {
     "data": {
      "text/html": [
       "<div>\n",
       "<style scoped>\n",
       "    .dataframe tbody tr th:only-of-type {\n",
       "        vertical-align: middle;\n",
       "    }\n",
       "\n",
       "    .dataframe tbody tr th {\n",
       "        vertical-align: top;\n",
       "    }\n",
       "\n",
       "    .dataframe thead th {\n",
       "        text-align: right;\n",
       "    }\n",
       "</style>\n",
       "<table border=\"1\" class=\"dataframe\">\n",
       "  <thead>\n",
       "    <tr style=\"text-align: right;\">\n",
       "      <th></th>\n",
       "      <th>id</th>\n",
       "      <th>text</th>\n",
       "    </tr>\n",
       "  </thead>\n",
       "  <tbody>\n",
       "    <tr>\n",
       "      <th>0</th>\n",
       "      <td>719821086527893505</td>\n",
       "      <td>え！？あのスクランブル交差点から見えるあれ！？うおおおお！！！！！！ https://t.c...</td>\n",
       "    </tr>\n",
       "    <tr>\n",
       "      <th>1</th>\n",
       "      <td>719821086527893505</td>\n",
       "      <td>アーカイブ見てるんですけどサイゼの「当たり前にシェアして〜」のまとばせんぱいの顔でめちゃめち...</td>\n",
       "    </tr>\n",
       "    <tr>\n",
       "      <th>2</th>\n",
       "      <td>719821086527893505</td>\n",
       "      <td>#虹コンサマワン0912</td>\n",
       "    </tr>\n",
       "    <tr>\n",
       "      <th>3</th>\n",
       "      <td>719821086527893505</td>\n",
       "      <td>そうだったんですね！😳これからは毎回チェックしちゃお〜🤟🤟🤟 https://t.co/ym...</td>\n",
       "    </tr>\n",
       "    <tr>\n",
       "      <th>4</th>\n",
       "      <td>719821086527893505</td>\n",
       "      <td>やまとぱいせんのウインク可愛すぎません？？え、かわよ\\n #虹コンサマワン0912</td>\n",
       "    </tr>\n",
       "  </tbody>\n",
       "</table>\n",
       "</div>"
      ],
      "text/plain": [
       "                   id                                               text\n",
       "0  719821086527893505  え！？あのスクランブル交差点から見えるあれ！？うおおおお！！！！！！ https://t.c...\n",
       "1  719821086527893505  アーカイブ見てるんですけどサイゼの「当たり前にシェアして〜」のまとばせんぱいの顔でめちゃめち...\n",
       "2  719821086527893505                                       #虹コンサマワン0912\n",
       "3  719821086527893505  そうだったんですね！😳これからは毎回チェックしちゃお〜🤟🤟🤟 https://t.co/ym...\n",
       "4  719821086527893505          やまとぱいせんのウインク可愛すぎません？？え、かわよ\\n #虹コンサマワン0912"
      ]
     },
     "execution_count": 15,
     "metadata": {},
     "output_type": "execute_result"
    }
   ],
   "source": [
    "result.head()"
   ]
  },
  {
   "cell_type": "code",
   "execution_count": 16,
   "metadata": {},
   "outputs": [
    {
     "name": "stdout",
     "output_type": "stream",
     "text": [
      "<class 'pandas.core.frame.DataFrame'>\n",
      "RangeIndex: 11844 entries, 0 to 11843\n",
      "Data columns (total 2 columns):\n",
      "id      11844 non-null object\n",
      "text    11844 non-null object\n",
      "dtypes: object(2)\n",
      "memory usage: 185.1+ KB\n"
     ]
    }
   ],
   "source": [
    "result.info()"
   ]
  },
  {
   "cell_type": "code",
   "execution_count": 17,
   "metadata": {},
   "outputs": [],
   "source": [
    "def format_text(text):\n",
    "    '''\n",
    "    MeCabに入れる前のツイートの整形方法例\n",
    "    '''\n",
    "    text = re.sub(r' ', '\\n', text)\n",
    "    text = re.sub(r'https?://[\\w/:%#\\$&\\?\\(\\)~\\.=\\+\\-…]+', \"\", text)\n",
    "    text = re.sub('RT', \"\", text)\n",
    "    text = re.sub('お気に入り', \"\", text)\n",
    "    text = re.sub('まとめ', \"\", text)\n",
    "    #ハッシュタグの検出のため、¥n#にしてから抜いていく\n",
    "    text = re.sub(r'#', '\\n#', text)\n",
    "    text = re.sub(r'(\\A|\\n|[ -/:-@\\[-~]|\\s)#.+(\\n|[ -/:-@\\[-~]|\\Z|\\s)', \"\", text) #ハッシュタグは別で入れるのでここでは消していたい\n",
    "    #同じようにして@ユーザー名も消したい\n",
    "    text = re.sub(r'(\\A|\\n|[ -/:-@\\[-~]|\\s)@.+(\\n|[ -/:-@\\[-~]|\\Z|\\s)', \"\", text)\n",
    "    #text = re.sub(r'[ -/:-@\\[-~]', \"\", text)  # 半角記号\n",
    "    #text = re.sub(r'[︰-＠]', \"\", text)  # 全角記号\n",
    "    text = re.sub('\\n', \" \", text)  # 改行文字\n",
    "\n",
    "    return text"
   ]
  },
  {
   "cell_type": "code",
   "execution_count": 18,
   "metadata": {},
   "outputs": [],
   "source": [
    "format_idoldf = result\n",
    "for index,row in format_idoldf.iterrows():\n",
    "    format_idoldf.loc[index]['text'] = format_text(row['text'])"
   ]
  },
  {
   "cell_type": "code",
   "execution_count": 19,
   "metadata": {},
   "outputs": [
    {
     "data": {
      "text/html": [
       "<div>\n",
       "<style scoped>\n",
       "    .dataframe tbody tr th:only-of-type {\n",
       "        vertical-align: middle;\n",
       "    }\n",
       "\n",
       "    .dataframe tbody tr th {\n",
       "        vertical-align: top;\n",
       "    }\n",
       "\n",
       "    .dataframe thead th {\n",
       "        text-align: right;\n",
       "    }\n",
       "</style>\n",
       "<table border=\"1\" class=\"dataframe\">\n",
       "  <thead>\n",
       "    <tr style=\"text-align: right;\">\n",
       "      <th></th>\n",
       "      <th>id</th>\n",
       "      <th>text</th>\n",
       "    </tr>\n",
       "  </thead>\n",
       "  <tbody>\n",
       "    <tr>\n",
       "      <th>0</th>\n",
       "      <td>719821086527893505</td>\n",
       "      <td>え！？あのスクランブル交差点から見えるあれ！？うおおおお！！！！！！</td>\n",
       "    </tr>\n",
       "    <tr>\n",
       "      <th>1</th>\n",
       "      <td>719821086527893505</td>\n",
       "      <td>アーカイブ見てるんですけどサイゼの「当たり前にシェアして〜」のまとばせんぱいの顔でめちゃめち...</td>\n",
       "    </tr>\n",
       "    <tr>\n",
       "      <th>2</th>\n",
       "      <td>719821086527893505</td>\n",
       "      <td></td>\n",
       "    </tr>\n",
       "    <tr>\n",
       "      <th>3</th>\n",
       "      <td>719821086527893505</td>\n",
       "      <td>そうだったんですね！😳これからは毎回チェックしちゃお〜🤟🤟🤟</td>\n",
       "    </tr>\n",
       "    <tr>\n",
       "      <th>4</th>\n",
       "      <td>719821086527893505</td>\n",
       "      <td>やまとぱいせんのウインク可愛すぎません？？え、かわよ</td>\n",
       "    </tr>\n",
       "  </tbody>\n",
       "</table>\n",
       "</div>"
      ],
      "text/plain": [
       "                   id                                               text\n",
       "0  719821086527893505                え！？あのスクランブル交差点から見えるあれ！？うおおおお！！！！！！ \n",
       "1  719821086527893505  アーカイブ見てるんですけどサイゼの「当たり前にシェアして〜」のまとばせんぱいの顔でめちゃめち...\n",
       "2  719821086527893505                                                   \n",
       "3  719821086527893505                    そうだったんですね！😳これからは毎回チェックしちゃお〜🤟🤟🤟 \n",
       "4  719821086527893505                       やまとぱいせんのウインク可愛すぎません？？え、かわよ  "
      ]
     },
     "execution_count": 19,
     "metadata": {},
     "output_type": "execute_result"
    }
   ],
   "source": [
    "result.head()"
   ]
  },
  {
   "cell_type": "code",
   "execution_count": null,
   "metadata": {},
   "outputs": [],
   "source": []
  }
 ],
 "metadata": {
  "interpreter": {
   "hash": "6ad2903d9f8eb78095a8e1054d3b7d96029c25240c1559c5c7674409ebbac066"
  },
  "kernelspec": {
   "display_name": "Python 3.7.3 64-bit ('base': conda)",
   "language": "python",
   "name": "python3"
  },
  "language_info": {
   "codemirror_mode": {
    "name": "ipython",
    "version": 3
   },
   "file_extension": ".py",
   "mimetype": "text/x-python",
   "name": "python",
   "nbconvert_exporter": "python",
   "pygments_lexer": "ipython3",
   "version": "3.7.3"
  },
  "orig_nbformat": 4
 },
 "nbformat": 4,
 "nbformat_minor": 2
}
